{
 "cells": [
  {
   "cell_type": "code",
   "execution_count": null,
   "id": "02396e36",
   "metadata": {},
   "outputs": [],
   "source": [
    "# 피처 생성하기"
   ]
  },
  {
   "cell_type": "code",
   "execution_count": null,
   "id": "04669283",
   "metadata": {},
   "outputs": [],
   "source": [
    "# 매매/전세 시세 흐름 피처 --> 전월 대비 매매가격지수 증감률"
   ]
  },
  {
   "cell_type": "code",
   "execution_count": null,
   "id": "08bc9a97",
   "metadata": {},
   "outputs": [],
   "source": [
    "'''\n",
    "1-1. 월간 아파트 매매가격지수증감률 데이터 수집 (KB 부동산 데이터)\n",
    "1-2. 월간 아파트 전세가격지수증감률 데이터 수집 (KB 부동산 데이터)\n",
    "2. 데이터 전처리\n",
    "3-1. 매매 누적증감률 피처 생성\n",
    "3-2. 전세 누적증감률 피처 생성\n",
    "'''"
   ]
  },
  {
   "cell_type": "code",
   "execution_count": null,
   "id": "087db5f7",
   "metadata": {},
   "outputs": [],
   "source": [
    "import pandas as pd\n"
   ]
  },
  {
   "cell_type": "code",
   "execution_count": null,
   "id": "0f62bf31",
   "metadata": {},
   "outputs": [],
   "source": [
    "# 전세 대비 저평가 인덱스 생성하기"
   ]
  },
  {
   "cell_type": "code",
   "execution_count": null,
   "id": "65c186b8",
   "metadata": {},
   "outputs": [],
   "source": [
    "# 전세 대비 저평가 인덱스 = 전세 누적 증감률 - 매매 누적증감률"
   ]
  },
  {
   "cell_type": "code",
   "execution_count": null,
   "id": "76c19af6",
   "metadata": {},
   "outputs": [],
   "source": [
    "# 전세 누적 증감률 생성하기"
   ]
  },
  {
   "cell_type": "code",
   "execution_count": null,
   "id": "071ef548",
   "metadata": {},
   "outputs": [],
   "source": []
  },
  {
   "cell_type": "code",
   "execution_count": null,
   "id": "8c23222d",
   "metadata": {},
   "outputs": [],
   "source": [
    "# 메메 누적 증감률 생성하기"
   ]
  }
 ],
 "metadata": {
  "kernelspec": {
   "display_name": "Python 3 (ipykernel)",
   "language": "python",
   "name": "python3"
  },
  "language_info": {
   "codemirror_mode": {
    "name": "ipython",
    "version": 3
   },
   "file_extension": ".py",
   "mimetype": "text/x-python",
   "name": "python",
   "nbconvert_exporter": "python",
   "pygments_lexer": "ipython3",
   "version": "3.8.8"
  }
 },
 "nbformat": 4,
 "nbformat_minor": 5
}
